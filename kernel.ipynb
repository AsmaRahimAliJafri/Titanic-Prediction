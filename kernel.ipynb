{
  "cells": [
    {
      "metadata": {
        "_uuid": "8f2839f25d086af736a60e9eeb907d3b93b6e0e5",
        "_cell_guid": "b1076dfc-b9ad-4769-8c92-a6c4dae69d19",
        "trusted": true,
        "scrolled": true
      },
      "cell_type": "code",
      "source": "# This Python 3 environment comes with many helpful analytics libraries installed\n# It is defined by the kaggle/python docker image: https://github.com/kaggle/docker-python\n# For example, here's several helpful packages to load in \n\nimport numpy as np # linear algebra\nimport pandas as pd # data processing, CSV file I/O (e.g. pd.read_csv)\nimport seaborn as sb\nimport matplotlib.pyplot as plt\nfrom sklearn.model_selection import train_test_split\nfrom sklearn.linear_model import LogisticRegression\nfrom sklearn.preprocessing import StandardScaler\n\n\n# Input data files are available in the \"../input/\" directory.\n# For example, running this (by clicking run or pressing Shift+Enter) will list the files in the input directory\n\nimport os\nprint(os.listdir(\"../input\"))\nsb.set(style='white')\nsb.set(style='whitegrid', color_codes= True)\n# Any results you write to the current directory are saved as output.\n",
      "execution_count": null,
      "outputs": []
    },
    {
      "metadata": {
        "_cell_guid": "79c7e3d0-c299-4dcb-8224-4455121ee9b0",
        "_uuid": "d629ff2d2480ee46fbb7e2d37f6b5fab8052498a",
        "trusted": true,
        "scrolled": false
      },
      "cell_type": "code",
      "source": "path_train ='../input/train.csv'\ndf = pd.read_csv(path_train,header=0)\ny = df.Survived\n# features = [\"Age\", \"Pclass\", \"Fare\", \"Cabin\", \"Sex\"]\nsb.set_context(context='talk')\n\n#for feature = Pclass\nsb.regplot(x='Pclass', y='Survived', data = df)\n\n#for feature = embarked\ntemp_embarked_col = df['Embarked']\ntemp_embarked_col = temp_embarked_col.dropna()\nsb.pointplot(temp_embarked_col, y='Survived', data=df)\n#NOTE: THIS SHOWS THAT PASSENGERS ON CLASS c HAVE HIGHER CHANCES OF SURVIVAL\n\n",
      "execution_count": null,
      "outputs": []
    },
    {
      "metadata": {
        "trusted": true,
        "_uuid": "4bddf75cdd77629cb405047fa083cd18e74665b9",
        "scrolled": true
      },
      "cell_type": "code",
      "source": "#for feature = sex\n#women = df[df['Sex']=='female']\n#men = df[df['Sex']=='male']\n#sb.distplot(women)\n\nsb.barplot(x='Sex', y='Survived', data=df)\n\n#for feature = Age\ntemp_age = df['Age'].dropna()\ng = sb.FacetGrid(df, col=\"Survived\")\ng = g.map(plt.hist, \"Age\")\n\n#for sibsp\nsb.barplot(x='SibSp', y='Survived', data=df)\n\n#for parch\nsb.barplot(x='Parch', y='Survived', data=df)\n\n#for fare \ntemp_fare = df['Fare'].dropna()\nsb.distplot(temp_fare, bins=100)",
      "execution_count": null,
      "outputs": []
    },
    {
      "metadata": {
        "trusted": true,
        "scrolled": true,
        "_uuid": "a54dfeea10bb6785cfdc81752e5d97061d3d0f19"
      },
      "cell_type": "code",
      "source": "#print(df)\ndf.info()",
      "execution_count": null,
      "outputs": []
    },
    {
      "metadata": {
        "trusted": true,
        "_uuid": "6974ef4769dcf642b770d0f0a8ade8f91c59b34b"
      },
      "cell_type": "code",
      "source": "#imputing missing values\n#to interpolate all the missing values in the age column\ndf['Age'] = df['Age'].interpolate()\n# Embarked replace NaN with the mode value\nModeEmbarked = df['Embarked'].mode()\ndf.Embarked = df.Embarked.fillna(value=ModeEmbarked)\n# Fare have 1 NaN missing value on the Submission dataset\nMedianFare = df.Fare.median()\ndf.Fare = df.Fare.fillna(value=MedianFare)",
      "execution_count": null,
      "outputs": []
    },
    {
      "metadata": {
        "trusted": true,
        "_uuid": "5e1534ce7354e4c0a3c8b4bea61b272299749b01"
      },
      "cell_type": "code",
      "source": "df.info()",
      "execution_count": null,
      "outputs": []
    },
    {
      "metadata": {
        "trusted": true,
        "scrolled": false,
        "_uuid": "a12f561ed321e01513189f71baa12dc0a986094e"
      },
      "cell_type": "code",
      "source": "#encoding the categorical features\ndf['Cabin'] = df.apply(lambda obs: 'No' if pd.isnull(obs['Cabin']) else 'Yes',axis=1)\ndf = pd.get_dummies(df, columns=['Sex','Cabin', 'Embarked'])",
      "execution_count": null,
      "outputs": []
    },
    {
      "metadata": {
        "trusted": true,
        "_uuid": "826a4e695f885b12f4fc3107edfaf5b667697d57"
      },
      "cell_type": "code",
      "source": "#for encoding cells\ndf.info()",
      "execution_count": null,
      "outputs": []
    },
    {
      "metadata": {
        "trusted": true,
        "_uuid": "68c6d0880582ce3684a2337f4cf98ef8954179b5"
      },
      "cell_type": "code",
      "source": "#scaling the continuous variables numerically\nscale = StandardScaler().fit(df[['Age', 'Fare']])\ndf[['Age','Fare']] = scale.transform(df[['Age','Fare']])",
      "execution_count": null,
      "outputs": []
    },
    {
      "metadata": {
        "trusted": true,
        "_uuid": "b4f8f0f9154b048cb3233bae16b874e993cd7540"
      },
      "cell_type": "code",
      "source": "#dropping the features that are too categorical and do not contribute to our model\ndf = df.drop(['Survived','Name','Ticket','PassengerId'],axis=1)\ndf.info()",
      "execution_count": null,
      "outputs": []
    },
    {
      "metadata": {
        "trusted": true,
        "_uuid": "0de2fe772fc9669f6117e3cf8abc77285ad28db4"
      },
      "cell_type": "code",
      "source": "#cleaning and transforming the test data\n\n#creating test and train sets\npath_test ='../input/test.csv'\ntest = pd.read_csv(path_test,header=0)\ntest_passengers = test['PassengerId']\npredictor_cols = ['Pclass', 'Age', 'SibSp', 'Parch', 'Fare', 'Sex', 'Cabin', 'Embarked']\ntest = test[predictor_cols]\n\n#imputing missing values\n#to interpolate all the missing values in the age column\ntest['Age'] = test['Age'].interpolate()\n# Embarked replace NaN with the mode value\nModeEmbarked = test['Embarked'].mode()\ntest.Embarked = test.Embarked.fillna(value=ModeEmbarked)\n# Fare have 1 NaN missing value on the Submission dataset\nMedianFare = test.Fare.median()\ntest.Fare = test.Fare.fillna(value=MedianFare)\n\n#encoding the categorical features\ntest['Cabin'] = test.apply(lambda obs: 'No' if pd.isnull(obs['Cabin']) else 'Yes',axis=1)\ntest = pd.get_dummies(test, columns=['Sex','Cabin', 'Embarked'])\n\n#scaling the continuous variables numerically\nscale = StandardScaler().fit(test[['Age', 'Fare']])\ntest[['Age','Fare']] = scale.transform(test[['Age','Fare']])\n\ntest.info()",
      "execution_count": null,
      "outputs": []
    },
    {
      "metadata": {
        "trusted": true,
        "_uuid": "32c0437a28aabb3b99cd68551ec5a63e2b456c73",
        "scrolled": false
      },
      "cell_type": "code",
      "source": "# here come the ml algorithms\n#converting the dataframe into numpy\ntrain = df.values\ntrain_output = y.values\n\n\nMlRes= {}\ndef MlResult(model,score):\n    MlRes[model] = score\n    print(MlRes)\n\n#using logistic regression\nlogreg = LogisticRegression()\n#add the regression data\nlogreg.fit(train, train_output)\n#using the test data to predict on the model\npredicted_result = logreg.predict(test)\nprint(predicted_result)\n#show the score/metrics\n#accuracy = logreg.score(train_output, test_output)\n#MlResult('Logistic Regression', accuracy)\n\n\n",
      "execution_count": null,
      "outputs": []
    },
    {
      "metadata": {
        "trusted": true,
        "_uuid": "57b707ec86095e96a24bb261a7c3bae8286acd5d"
      },
      "cell_type": "code",
      "source": "#submission code\nsubmission = pd.DataFrame({'PassengerId':test_passengers,'Survived':predicted_result})\nsubmission.to_csv('submission.csv', index=False)\n# print(test_passengers)\n\n    ",
      "execution_count": null,
      "outputs": []
    },
    {
      "metadata": {
        "trusted": true,
        "_uuid": "9dfca7932b778478c9c21624e7cff3766293c8ad"
      },
      "cell_type": "code",
      "source": "",
      "execution_count": null,
      "outputs": []
    }
  ],
  "metadata": {
    "kernelspec": {
      "display_name": "Python 3",
      "language": "python",
      "name": "python3"
    },
    "language_info": {
      "name": "python",
      "version": "3.6.6",
      "mimetype": "text/x-python",
      "codemirror_mode": {
        "name": "ipython",
        "version": 3
      },
      "pygments_lexer": "ipython3",
      "nbconvert_exporter": "python",
      "file_extension": ".py"
    }
  },
  "nbformat": 4,
  "nbformat_minor": 1
}